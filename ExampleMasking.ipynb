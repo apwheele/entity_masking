{
 "cells": [
  {
   "cell_type": "markdown",
   "metadata": {},
   "source": [
    "# Illustration of masking functions\n",
    "\n",
    "[Andrew Wheeler, PhD](mailto:apwheele@gmail.com)\n",
    "\n",
    "This uses pre-trained models to do *Named Entity Resolution*. In particular it uses a model that was built to mask [private medical record data](https://github.com/MIDRC/Stanford_Penn_MIDRC_Deidentifier). So it has many similarties, including names, geographic data, and personally identifying information (like social security numbers).\n",
    "\n",
    "I have written the code you can pipe in different pre-trained NER models though, and it will do the masking. You may also consider *training your own* model going forward in the future. I can help accommodate that as well. (There are other paid models [you can use as well](https://nlp.johnsnowlabs.com/2022/08/31/finpipe_deid_en.html), but I believe it would be better to train yourself at that point than to pay a continual fee.)"
   ]
  },
  {
   "cell_type": "code",
   "execution_count": 1,
   "metadata": {},
   "outputs": [
    {
     "data": {
      "text/html": [
       "<div>\n",
       "<style scoped>\n",
       "    .dataframe tbody tr th:only-of-type {\n",
       "        vertical-align: middle;\n",
       "    }\n",
       "\n",
       "    .dataframe tbody tr th {\n",
       "        vertical-align: top;\n",
       "    }\n",
       "\n",
       "    .dataframe thead th {\n",
       "        text-align: right;\n",
       "    }\n",
       "</style>\n",
       "<table border=\"1\" class=\"dataframe\">\n",
       "  <thead>\n",
       "    <tr style=\"text-align: right;\">\n",
       "      <th></th>\n",
       "      <th>ID</th>\n",
       "      <th>Text</th>\n",
       "    </tr>\n",
       "  </thead>\n",
       "  <tbody>\n",
       "    <tr>\n",
       "      <th>a</th>\n",
       "      <td>1</td>\n",
       "      <td>Andy Wheeler is a birder 190682540 where I liv...</td>\n",
       "    </tr>\n",
       "    <tr>\n",
       "      <th>b</th>\n",
       "      <td>2</td>\n",
       "      <td>Scott Jacques is an interesting fellow, his ch...</td>\n",
       "    </tr>\n",
       "    <tr>\n",
       "      <th>c</th>\n",
       "      <td>3</td>\n",
       "      <td>lol, what a noob</td>\n",
       "    </tr>\n",
       "  </tbody>\n",
       "</table>\n",
       "</div>"
      ],
      "text/plain": [
       "   ID                                               Text\n",
       "a   1  Andy Wheeler is a birder 190682540 where I liv...\n",
       "b   2  Scott Jacques is an interesting fellow, his ch...\n",
       "c   3                                   lol, what a noob"
      ]
     },
     "execution_count": 1,
     "metadata": {},
     "output_type": "execute_result"
    }
   ],
   "source": [
    "import pandas as pd\n",
    "from src.masking import mask_dataframe # local functions, first time will download model, so may take awhile\n",
    "\n",
    "# Illustrating with a simple dataframe of text\n",
    "t1 = \"Andy Wheeler is a birder 190682540 where I live 100 Main St Tennesee with Joe Schmo\"\n",
    "t2 = \"Scott Jacques is an interesting fellow, his check number 18887623597 is a good one.\"\n",
    "t3 = \"lol, what a noob\"\n",
    "text_li = [t1,t2,t3]\n",
    "id = [1,2,3]\n",
    "\n",
    "test_df = pd.DataFrame(zip(id,text_li),columns=['ID','Text'], index=['a','b','c'])\n",
    "test_df # This is the sample input dataframe"
   ]
  },
  {
   "cell_type": "markdown",
   "metadata": {},
   "source": [
    "So this function will produce an output that identifies particular tokens in the input that include:\n",
    "\n",
    " - PersonName, e.g a textual name for a person\n",
    " - IdentNumber, e.g. a SSN or another potential sensitive number\n",
    " - Contact, e.g. Phone number, Email\n",
    " - Date, a date field\n",
    " - Geo, a location, address, building\n",
    " - Web, a website location\n",
    " \n",
    "Currently by default I *only* mask PersonName, IdentNumber, Contact, and Geo. You can mask all of those fields though if you wish. Also note if you are interested in training your own model, you can identify *more* entities (not just for masking)."
   ]
  },
  {
   "cell_type": "code",
   "execution_count": 2,
   "metadata": {},
   "outputs": [
    {
     "data": {
      "text/html": [
       "<div>\n",
       "<style scoped>\n",
       "    .dataframe tbody tr th:only-of-type {\n",
       "        vertical-align: middle;\n",
       "    }\n",
       "\n",
       "    .dataframe tbody tr th {\n",
       "        vertical-align: top;\n",
       "    }\n",
       "\n",
       "    .dataframe thead th {\n",
       "        text-align: right;\n",
       "    }\n",
       "</style>\n",
       "<table border=\"1\" class=\"dataframe\">\n",
       "  <thead>\n",
       "    <tr style=\"text-align: right;\">\n",
       "      <th></th>\n",
       "      <th>Text</th>\n",
       "      <th>Contact</th>\n",
       "      <th>Geo</th>\n",
       "      <th>IdentNumber</th>\n",
       "      <th>PersonName</th>\n",
       "    </tr>\n",
       "  </thead>\n",
       "  <tbody>\n",
       "    <tr>\n",
       "      <th>a</th>\n",
       "      <td>PersonName1 is a birder IdentNumber1 where I l...</td>\n",
       "      <td>[]</td>\n",
       "      <td>[{'entity_group': 'Geo1', 'score': 0.973690092...</td>\n",
       "      <td>[{'entity_group': 'IdentNumber1', 'score': 0.9...</td>\n",
       "      <td>[{'entity_group': 'PersonName1', 'score': 0.95...</td>\n",
       "    </tr>\n",
       "    <tr>\n",
       "      <th>b</th>\n",
       "      <td>PersonName1 is an interesting fellow, his chec...</td>\n",
       "      <td>[]</td>\n",
       "      <td>[]</td>\n",
       "      <td>[{'entity_group': 'IdentNumber1', 'score': 0.9...</td>\n",
       "      <td>[{'entity_group': 'PersonName1', 'score': 0.99...</td>\n",
       "    </tr>\n",
       "    <tr>\n",
       "      <th>c</th>\n",
       "      <td>lol, what a noob</td>\n",
       "      <td>[]</td>\n",
       "      <td>[]</td>\n",
       "      <td>[]</td>\n",
       "      <td>[]</td>\n",
       "    </tr>\n",
       "  </tbody>\n",
       "</table>\n",
       "</div>"
      ],
      "text/plain": [
       "                                                Text Contact  \\\n",
       "a  PersonName1 is a birder IdentNumber1 where I l...      []   \n",
       "b  PersonName1 is an interesting fellow, his chec...      []   \n",
       "c                                   lol, what a noob      []   \n",
       "\n",
       "                                                 Geo  \\\n",
       "a  [{'entity_group': 'Geo1', 'score': 0.973690092...   \n",
       "b                                                 []   \n",
       "c                                                 []   \n",
       "\n",
       "                                         IdentNumber  \\\n",
       "a  [{'entity_group': 'IdentNumber1', 'score': 0.9...   \n",
       "b  [{'entity_group': 'IdentNumber1', 'score': 0.9...   \n",
       "c                                                 []   \n",
       "\n",
       "                                          PersonName  \n",
       "a  [{'entity_group': 'PersonName1', 'score': 0.95...  \n",
       "b  [{'entity_group': 'PersonName1', 'score': 0.99...  \n",
       "c                                                 []  "
      ]
     },
     "execution_count": 2,
     "metadata": {},
     "output_type": "execute_result"
    }
   ],
   "source": [
    "res = mask_dataframe(test_df,'Text') # pass in dataframe, and the field that has the text\n",
    "res"
   ]
  },
  {
   "cell_type": "code",
   "execution_count": 3,
   "metadata": {},
   "outputs": [
    {
     "name": "stdout",
     "output_type": "stream",
     "text": [
      "PersonName1 is a birder IdentNumber1 where I live Geo1 with PersonName2\n",
      "PersonName1 is an interesting fellow, his check number IdentNumber1 is a good one.\n",
      "lol, what a noob\n"
     ]
    }
   ],
   "source": [
    "for text in res['Text']:\n",
    "    print(text)"
   ]
  },
  {
   "cell_type": "code",
   "execution_count": null,
   "metadata": {},
   "outputs": [],
   "source": []
  }
 ],
 "metadata": {
  "kernelspec": {
   "display_name": "Python 3",
   "language": "python",
   "name": "python3"
  },
  "language_info": {
   "codemirror_mode": {
    "name": "ipython",
    "version": 3
   },
   "file_extension": ".py",
   "mimetype": "text/x-python",
   "name": "python",
   "nbconvert_exporter": "python",
   "pygments_lexer": "ipython3",
   "version": "3.8.6"
  }
 },
 "nbformat": 4,
 "nbformat_minor": 4
}
